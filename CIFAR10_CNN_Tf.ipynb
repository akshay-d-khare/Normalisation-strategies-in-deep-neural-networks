{
  "nbformat": 4,
  "nbformat_minor": 0,
  "metadata": {
    "colab": {
      "name": "CIFAR10_CNN.ipynb",
      "version": "0.3.2",
      "provenance": [],
      "collapsed_sections": []
    },
    "kernelspec": {
      "name": "python3",
      "display_name": "Python 3"
    },
    "accelerator": "GPU"
  },
  "cells": [
    {
      "cell_type": "code",
      "metadata": {
        "id": "m_IW1XKZMxL1",
        "colab_type": "code",
        "colab": {
          "base_uri": "https://localhost:8080/",
          "height": 34
        },
        "outputId": "ddec2721-caaa-4151-d027-eae92f5189c7"
      },
      "source": [
        "import sys\n",
        "from matplotlib import pyplot\n",
        "from keras.datasets import cifar10\n",
        "from keras.utils import to_categorical\n",
        "from keras.models import Sequential\n",
        "from keras.layers import BatchNormalization\n",
        "from keras.layers import Conv2D\n",
        "from keras.layers import MaxPooling2D\n",
        "from keras.layers import Dense\n",
        "from keras.layers import Flatten\n",
        "from keras.optimizers import SGD\n",
        "from keras.utils import np_utils\n",
        "import tensorflow as tf\n",
        "import numpy as np\n",
        "from skimage.transform import resize"
      ],
      "execution_count": 1,
      "outputs": [
        {
          "output_type": "stream",
          "text": [
            "Using TensorFlow backend.\n"
          ],
          "name": "stderr"
        }
      ]
    },
    {
      "cell_type": "code",
      "metadata": {
        "id": "cgUzrqYkBve7",
        "colab_type": "code",
        "colab": {}
      },
      "source": [
        "def rgb2gray(rgb):\n",
        "\n",
        "    r, g, b = rgb[:,:,0], rgb[:,:,1], rgb[:,:,2]\n",
        "    gray = 0.2989 * r + 0.5870 * g + 0.1140 * b\n",
        "\n",
        "    return gray"
      ],
      "execution_count": 0,
      "outputs": []
    },
    {
      "cell_type": "code",
      "metadata": {
        "id": "uakM1IbggFqW",
        "colab_type": "code",
        "colab": {}
      },
      "source": [
        "# load train and test dataset\n",
        "def load_dataset():\n",
        "\t# load dataset\n",
        "\t(trainX, trainY), (testX, testY) = cifar10.load_data()\n",
        "\t# one hot encode target values\n",
        "\ttr = []\n",
        "\tts = []\n",
        "\tfor i in trainX:\n",
        "\t\tdownsampled_image = resize(i, [28, 28, 3])\n",
        "\t\ttr.append(np.reshape(rgb2gray(downsampled_image), (28, 28, 1)))\n",
        "\tfor i in testX:\n",
        "\t\tdownsampled_image = resize(i, [28, 28, 3])    \n",
        "\t\tts.append(np.reshape(rgb2gray(downsampled_image), (28, 28, 1)))\n",
        "    \n",
        "\ttrainY = to_categorical(trainY)\n",
        "\ttestY = to_categorical(testY)\n",
        "\treturn np.array(tr), trainY, np.array(ts), testY"
      ],
      "execution_count": 0,
      "outputs": []
    },
    {
      "cell_type": "code",
      "metadata": {
        "id": "ovhPPa27gJIN",
        "colab_type": "code",
        "colab": {}
      },
      "source": [
        "# scale pixels\n",
        "def prep_pixels(train, test):\n",
        "\t# convert from integers to floats\n",
        "\ttrain_norm = train.astype('float32')\n",
        "\ttest_norm = test.astype('float32')\n",
        "\t# normalize to range 0-1\n",
        "\ttrain_norm = train_norm / 255.0\n",
        "\ttest_norm = test_norm / 255.0\n",
        "\t# return normalized images\n",
        "\treturn train_norm, test_norm"
      ],
      "execution_count": 0,
      "outputs": []
    },
    {
      "cell_type": "code",
      "metadata": {
        "id": "1nHRwsongMBj",
        "colab_type": "code",
        "colab": {}
      },
      "source": [
        "#both placeholders are of type float\n",
        "x = tf.placeholder(\"float\", [None,28,28, 1])\n",
        "y = tf.placeholder(\"float\", [None, 10])"
      ],
      "execution_count": 0,
      "outputs": []
    },
    {
      "cell_type": "code",
      "metadata": {
        "id": "qcYiVw8QgQqj",
        "colab_type": "code",
        "colab": {}
      },
      "source": [
        "def conv2d(x, W, b, strides=1):\n",
        "    # Conv2D wrapper, with bias and relu activation\n",
        "    x = tf.nn.conv2d(x, W, strides=[1, strides, strides, 1], padding='SAME')\n",
        "    x = tf.nn.bias_add(x, b)\n",
        "    # Add a normalization layer on the preactivation\n",
        "    return tf.nn.relu(x) \n",
        "\n",
        "def maxpool2d(x, k=2):\n",
        "    return tf.nn.max_pool(x, ksize=[1, k, k, 1], strides=[1, k, k, 1],padding='SAME')"
      ],
      "execution_count": 0,
      "outputs": []
    },
    {
      "cell_type": "code",
      "metadata": {
        "id": "7G7DnZvCgabf",
        "colab_type": "code",
        "colab": {}
      },
      "source": [
        "weights = {\n",
        "    'wc1': tf.get_variable('W0', shape=(3,3,1,32), initializer=tf.initializers.he_uniform()), \n",
        "    'wc2': tf.get_variable('W1', shape=(3,3,32,64), initializer=tf.initializers.he_uniform()), \n",
        "    'wc3': tf.get_variable('W2', shape=(3,3,64,128), initializer=tf.initializers.he_uniform()), \n",
        "    'wd1': tf.get_variable('W3', shape=(4*4*128,128), initializer=tf.initializers.he_uniform()), \n",
        "    'out': tf.get_variable('W6', shape=(128,10), initializer=tf.initializers.he_uniform()), \n",
        "}\n",
        "biases = {\n",
        "    'bc1': tf.get_variable('B0', shape=(32), initializer=tf.initializers.he_uniform()),\n",
        "    'bc2': tf.get_variable('B1', shape=(64), initializer=tf.initializers.he_uniform()),\n",
        "    'bc3': tf.get_variable('B2', shape=(128), initializer=tf.initializers.he_uniform()),\n",
        "    'bd1': tf.get_variable('B3', shape=(128), initializer=tf.initializers.he_uniform()),\n",
        "    'out': tf.get_variable('B4', shape=(10), initializer=tf.initializers.he_uniform()),\n",
        "}"
      ],
      "execution_count": 0,
      "outputs": []
    },
    {
      "cell_type": "code",
      "metadata": {
        "id": "DjG8opMaHfuP",
        "colab_type": "code",
        "colab": {}
      },
      "source": [
        "def conv_net(x, weights, biases):  \n",
        "\n",
        "    # here we call the conv2d function we had defined above and pass the input image x, weights wc1 and bias bc1.\n",
        "    conv1 = conv2d(x, weights['wc1'], biases['bc1'])\n",
        "    \n",
        "    # Max Pooling (down-sampling), this chooses the max value from a 2*2 matrix window and outputs a 14*14 matrix.\n",
        "    conv1 = maxpool2d(conv1, k=2)\n",
        "    \n",
        "    conv2 = conv2d(conv1, weights['wc2'], biases['bc2'])\n",
        "    \n",
        "    # Max Pooling (down-sampling), this chooses the max value from a 2*2 matrix window and outputs a 7*7 matrix.\n",
        "    conv2 = maxpool2d(conv2, k=2)\n",
        "\n",
        "    conv3 = conv2d(conv2, weights['wc3'], biases['bc3'])\n",
        "    \n",
        "    # Max Pooling (down-sampling), this chooses the max value from a 2*2 matrix window and outputs a 4*4.\n",
        "    conv3 = maxpool2d(conv3, k=2)\n",
        "\n",
        "    # Fully connected layer\n",
        "    # Reshape conv2 output to fit fully connected layer input\n",
        "    fc1 = tf.reshape(conv3, [-1, weights['wd1'].get_shape().as_list()[0]])\n",
        "    fc1 = tf.add(tf.matmul(fc1, weights['wd1']), biases['bd1'])\n",
        "    fc1 = tf.nn.relu(fc1)\n",
        "    \n",
        "    # Output, class prediction\n",
        "    # finally we multiply the fully connected layer with the weights and add a bias term. \n",
        "    out = tf.add(tf.matmul(fc1, weights['out']), biases['out'])\n",
        "    return out"
      ],
      "execution_count": 0,
      "outputs": []
    },
    {
      "cell_type": "code",
      "metadata": {
        "id": "tKnOboaXTIxh",
        "colab_type": "code",
        "colab": {}
      },
      "source": [
        "pred = conv_net(x, weights, biases)\n",
        "\n",
        "cost = tf.reduce_mean(tf.nn.softmax_cross_entropy_with_logits_v2(logits=pred, labels=y))\n",
        "\n",
        "optimizer = tf.train.MomentumOptimizer(learning_rate=0.001, momentum = 0.9).minimize(cost)"
      ],
      "execution_count": 0,
      "outputs": []
    },
    {
      "cell_type": "code",
      "metadata": {
        "id": "C3ZdlHnMUjPU",
        "colab_type": "code",
        "colab": {}
      },
      "source": [
        "#Here you check whether the index of the maximum value of the predicted image is equal to the actual labelled image. and both will be a column vector.\n",
        "correct_prediction = tf.equal(tf.argmax(pred, 1), tf.argmax(y, 1))\n",
        "\n",
        "#calculate accuracy across all the given images and average them out. \n",
        "accuracy = tf.reduce_mean(tf.cast(correct_prediction, tf.float32))"
      ],
      "execution_count": 0,
      "outputs": []
    },
    {
      "cell_type": "code",
      "metadata": {
        "id": "jR1i6Bs4Uj2A",
        "colab_type": "code",
        "outputId": "510df45a-5ab2-4e89-8f43-f1dece10d97b",
        "colab": {
          "base_uri": "https://localhost:8080/",
          "height": 1000
        }
      },
      "source": [
        "# Initializing the variables\n",
        "init = tf.global_variables_initializer()\n",
        "train_X, train_y, test_X, test_y = load_dataset()\n",
        "training_iters = 100\n",
        "batch_size = 64\n",
        "with tf.Session() as sess:\n",
        "    sess.run(init) \n",
        "    train_loss = []\n",
        "    test_loss = []\n",
        "    train_accuracy = []\n",
        "    test_accuracy = []\n",
        "    summary_writer = tf.summary.FileWriter('./Output', sess.graph)\n",
        "    for i in range(training_iters):\n",
        "        for batch in range(len(train_X)//batch_size):\n",
        "            batch_x = train_X[batch*batch_size:min((batch+1)*batch_size,len(train_X))]\n",
        "            batch_y = train_y[batch*batch_size:min((batch+1)*batch_size,len(train_y))]    \n",
        "            # Run optimization op (backprop).\n",
        "                # Calculate batch loss and accuracy\n",
        "            opt = sess.run(optimizer, feed_dict={x: batch_x,\n",
        "                                                              y: batch_y})\n",
        "            loss, acc = sess.run([cost, accuracy], feed_dict={x: batch_x,\n",
        "                                                              y: batch_y})\n",
        "        print(\"Iter \" + str(i) + \", Loss= \" + \\\n",
        "                      \"{:.6f}\".format(loss) + \", Training Accuracy= \" + \\\n",
        "                      \"{:.5f}\".format(acc))\n",
        "        print(\"Optimization Finished!\")\n",
        "\n",
        "        # Calculate accuracy for all 10000 mnist test images\n",
        "        test_acc,valid_loss = sess.run([accuracy,cost], feed_dict={x: test_X,y : test_y})\n",
        "        train_loss.append(loss)\n",
        "        test_loss.append(valid_loss)\n",
        "        train_accuracy.append(acc)\n",
        "        test_accuracy.append(test_acc)\n",
        "        print(\"Testing Accuracy:\",\"{:.5f}\".format(test_acc))\n",
        "    summary_writer.close()"
      ],
      "execution_count": 11,
      "outputs": [
        {
          "output_type": "stream",
          "text": [
            "Iter 0, Loss= 1.714648, Training Accuracy= 0.34375\n",
            "Optimization Finished!\n",
            "Testing Accuracy: 0.38080\n",
            "Iter 1, Loss= 1.575660, Training Accuracy= 0.43750\n",
            "Optimization Finished!\n",
            "Testing Accuracy: 0.43540\n",
            "Iter 2, Loss= 1.492488, Training Accuracy= 0.46875\n",
            "Optimization Finished!\n",
            "Testing Accuracy: 0.47420\n",
            "Iter 3, Loss= 1.416557, Training Accuracy= 0.54688\n",
            "Optimization Finished!\n",
            "Testing Accuracy: 0.50100\n",
            "Iter 4, Loss= 1.335000, Training Accuracy= 0.56250\n",
            "Optimization Finished!\n",
            "Testing Accuracy: 0.52730\n",
            "Iter 5, Loss= 1.244763, Training Accuracy= 0.59375\n",
            "Optimization Finished!\n",
            "Testing Accuracy: 0.54940\n",
            "Iter 6, Loss= 1.168317, Training Accuracy= 0.60938\n",
            "Optimization Finished!\n",
            "Testing Accuracy: 0.56900\n",
            "Iter 7, Loss= 1.098868, Training Accuracy= 0.64062\n",
            "Optimization Finished!\n",
            "Testing Accuracy: 0.58200\n",
            "Iter 8, Loss= 1.046415, Training Accuracy= 0.62500\n",
            "Optimization Finished!\n",
            "Testing Accuracy: 0.59230\n",
            "Iter 9, Loss= 1.002685, Training Accuracy= 0.62500\n",
            "Optimization Finished!\n",
            "Testing Accuracy: 0.59880\n",
            "Iter 10, Loss= 0.954648, Training Accuracy= 0.67188\n",
            "Optimization Finished!\n",
            "Testing Accuracy: 0.60280\n",
            "Iter 11, Loss= 0.926510, Training Accuracy= 0.64062\n",
            "Optimization Finished!\n",
            "Testing Accuracy: 0.60350\n",
            "Iter 12, Loss= 0.886630, Training Accuracy= 0.64062\n",
            "Optimization Finished!\n",
            "Testing Accuracy: 0.61010\n",
            "Iter 13, Loss= 0.848385, Training Accuracy= 0.65625\n",
            "Optimization Finished!\n",
            "Testing Accuracy: 0.61310\n",
            "Iter 14, Loss= 0.827026, Training Accuracy= 0.67188\n",
            "Optimization Finished!\n",
            "Testing Accuracy: 0.61780\n",
            "Iter 15, Loss= 0.788175, Training Accuracy= 0.68750\n",
            "Optimization Finished!\n",
            "Testing Accuracy: 0.62200\n",
            "Iter 16, Loss= 0.760454, Training Accuracy= 0.75000\n",
            "Optimization Finished!\n",
            "Testing Accuracy: 0.62660\n",
            "Iter 17, Loss= 0.730258, Training Accuracy= 0.76562\n",
            "Optimization Finished!\n",
            "Testing Accuracy: 0.63150\n",
            "Iter 18, Loss= 0.698107, Training Accuracy= 0.76562\n",
            "Optimization Finished!\n",
            "Testing Accuracy: 0.63560\n",
            "Iter 19, Loss= 0.679610, Training Accuracy= 0.79688\n",
            "Optimization Finished!\n",
            "Testing Accuracy: 0.63680\n",
            "Iter 20, Loss= 0.653391, Training Accuracy= 0.81250\n",
            "Optimization Finished!\n",
            "Testing Accuracy: 0.63920\n",
            "Iter 21, Loss= 0.634856, Training Accuracy= 0.81250\n",
            "Optimization Finished!\n",
            "Testing Accuracy: 0.64110\n",
            "Iter 22, Loss= 0.618397, Training Accuracy= 0.82812\n",
            "Optimization Finished!\n",
            "Testing Accuracy: 0.64020\n",
            "Iter 23, Loss= 0.600340, Training Accuracy= 0.82812\n",
            "Optimization Finished!\n",
            "Testing Accuracy: 0.64000\n",
            "Iter 24, Loss= 0.585473, Training Accuracy= 0.84375\n",
            "Optimization Finished!\n",
            "Testing Accuracy: 0.64100\n",
            "Iter 25, Loss= 0.578827, Training Accuracy= 0.82812\n",
            "Optimization Finished!\n",
            "Testing Accuracy: 0.64000\n",
            "Iter 26, Loss= 0.566338, Training Accuracy= 0.82812\n",
            "Optimization Finished!\n",
            "Testing Accuracy: 0.64180\n",
            "Iter 27, Loss= 0.551096, Training Accuracy= 0.82812\n",
            "Optimization Finished!\n",
            "Testing Accuracy: 0.64100\n",
            "Iter 28, Loss= 0.536766, Training Accuracy= 0.81250\n",
            "Optimization Finished!\n",
            "Testing Accuracy: 0.64140\n",
            "Iter 29, Loss= 0.525606, Training Accuracy= 0.84375\n",
            "Optimization Finished!\n",
            "Testing Accuracy: 0.64410\n",
            "Iter 30, Loss= 0.511962, Training Accuracy= 0.84375\n",
            "Optimization Finished!\n",
            "Testing Accuracy: 0.64560\n",
            "Iter 31, Loss= 0.515026, Training Accuracy= 0.84375\n",
            "Optimization Finished!\n",
            "Testing Accuracy: 0.64760\n",
            "Iter 32, Loss= 0.517164, Training Accuracy= 0.84375\n",
            "Optimization Finished!\n",
            "Testing Accuracy: 0.64780\n",
            "Iter 33, Loss= 0.508322, Training Accuracy= 0.81250\n",
            "Optimization Finished!\n",
            "Testing Accuracy: 0.64750\n",
            "Iter 34, Loss= 0.488801, Training Accuracy= 0.84375\n",
            "Optimization Finished!\n",
            "Testing Accuracy: 0.64800\n",
            "Iter 35, Loss= 0.478279, Training Accuracy= 0.85938\n",
            "Optimization Finished!\n",
            "Testing Accuracy: 0.64920\n",
            "Iter 36, Loss= 0.457140, Training Accuracy= 0.84375\n",
            "Optimization Finished!\n",
            "Testing Accuracy: 0.64880\n",
            "Iter 37, Loss= 0.446920, Training Accuracy= 0.81250\n",
            "Optimization Finished!\n",
            "Testing Accuracy: 0.64750\n",
            "Iter 38, Loss= 0.417509, Training Accuracy= 0.85938\n",
            "Optimization Finished!\n",
            "Testing Accuracy: 0.64360\n",
            "Iter 39, Loss= 0.411126, Training Accuracy= 0.87500\n",
            "Optimization Finished!\n",
            "Testing Accuracy: 0.63860\n",
            "Iter 40, Loss= 0.408202, Training Accuracy= 0.87500\n",
            "Optimization Finished!\n",
            "Testing Accuracy: 0.63310\n",
            "Iter 41, Loss= 0.397194, Training Accuracy= 0.85938\n",
            "Optimization Finished!\n",
            "Testing Accuracy: 0.62870\n",
            "Iter 42, Loss= 0.388891, Training Accuracy= 0.87500\n",
            "Optimization Finished!\n",
            "Testing Accuracy: 0.62200\n",
            "Iter 43, Loss= 0.384588, Training Accuracy= 0.85938\n",
            "Optimization Finished!\n",
            "Testing Accuracy: 0.61670\n",
            "Iter 44, Loss= 0.351460, Training Accuracy= 0.85938\n",
            "Optimization Finished!\n",
            "Testing Accuracy: 0.61810\n",
            "Iter 45, Loss= 0.322784, Training Accuracy= 0.87500\n",
            "Optimization Finished!\n",
            "Testing Accuracy: 0.62380\n",
            "Iter 46, Loss= 0.299436, Training Accuracy= 0.87500\n",
            "Optimization Finished!\n",
            "Testing Accuracy: 0.62300\n",
            "Iter 47, Loss= 0.296360, Training Accuracy= 0.89062\n",
            "Optimization Finished!\n",
            "Testing Accuracy: 0.61900\n",
            "Iter 48, Loss= 0.305086, Training Accuracy= 0.90625\n",
            "Optimization Finished!\n",
            "Testing Accuracy: 0.61610\n",
            "Iter 49, Loss= 0.291960, Training Accuracy= 0.92188\n",
            "Optimization Finished!\n",
            "Testing Accuracy: 0.62190\n",
            "Iter 50, Loss= 0.281762, Training Accuracy= 0.89062\n",
            "Optimization Finished!\n",
            "Testing Accuracy: 0.62470\n",
            "Iter 51, Loss= 0.250893, Training Accuracy= 0.90625\n",
            "Optimization Finished!\n",
            "Testing Accuracy: 0.62790\n",
            "Iter 52, Loss= 0.261368, Training Accuracy= 0.90625\n",
            "Optimization Finished!\n",
            "Testing Accuracy: 0.62530\n",
            "Iter 53, Loss= 0.236584, Training Accuracy= 0.92188\n",
            "Optimization Finished!\n",
            "Testing Accuracy: 0.62230\n",
            "Iter 54, Loss= 0.207064, Training Accuracy= 0.95312\n",
            "Optimization Finished!\n",
            "Testing Accuracy: 0.62310\n",
            "Iter 55, Loss= 0.184357, Training Accuracy= 0.96875\n",
            "Optimization Finished!\n",
            "Testing Accuracy: 0.62350\n",
            "Iter 56, Loss= 0.180656, Training Accuracy= 0.96875\n",
            "Optimization Finished!\n",
            "Testing Accuracy: 0.61960\n",
            "Iter 57, Loss= 0.188858, Training Accuracy= 0.95312\n",
            "Optimization Finished!\n",
            "Testing Accuracy: 0.61770\n",
            "Iter 58, Loss= 0.209726, Training Accuracy= 0.92188\n",
            "Optimization Finished!\n",
            "Testing Accuracy: 0.61900\n",
            "Iter 59, Loss= 0.179609, Training Accuracy= 0.95312\n",
            "Optimization Finished!\n",
            "Testing Accuracy: 0.62310\n",
            "Iter 60, Loss= 0.151302, Training Accuracy= 0.95312\n",
            "Optimization Finished!\n",
            "Testing Accuracy: 0.63040\n",
            "Iter 61, Loss= 0.124237, Training Accuracy= 0.95312\n",
            "Optimization Finished!\n",
            "Testing Accuracy: 0.63520\n",
            "Iter 62, Loss= 0.110887, Training Accuracy= 0.98438\n",
            "Optimization Finished!\n",
            "Testing Accuracy: 0.63650\n",
            "Iter 63, Loss= 0.111519, Training Accuracy= 0.96875\n",
            "Optimization Finished!\n",
            "Testing Accuracy: 0.63620\n",
            "Iter 64, Loss= 0.129046, Training Accuracy= 0.98438\n",
            "Optimization Finished!\n",
            "Testing Accuracy: 0.62940\n",
            "Iter 65, Loss= 0.124296, Training Accuracy= 0.95312\n",
            "Optimization Finished!\n",
            "Testing Accuracy: 0.62500\n",
            "Iter 66, Loss= 0.074322, Training Accuracy= 1.00000\n",
            "Optimization Finished!\n",
            "Testing Accuracy: 0.62810\n",
            "Iter 67, Loss= 0.098609, Training Accuracy= 0.98438\n",
            "Optimization Finished!\n",
            "Testing Accuracy: 0.62710\n",
            "Iter 68, Loss= 0.090081, Training Accuracy= 1.00000\n",
            "Optimization Finished!\n",
            "Testing Accuracy: 0.61810\n",
            "Iter 69, Loss= 0.085258, Training Accuracy= 0.96875\n",
            "Optimization Finished!\n",
            "Testing Accuracy: 0.61710\n",
            "Iter 70, Loss= 0.095789, Training Accuracy= 0.96875\n",
            "Optimization Finished!\n",
            "Testing Accuracy: 0.62380\n",
            "Iter 71, Loss= 0.051344, Training Accuracy= 1.00000\n",
            "Optimization Finished!\n",
            "Testing Accuracy: 0.63700\n",
            "Iter 72, Loss= 0.044285, Training Accuracy= 1.00000\n",
            "Optimization Finished!\n",
            "Testing Accuracy: 0.63660\n",
            "Iter 73, Loss= 0.057972, Training Accuracy= 1.00000\n",
            "Optimization Finished!\n",
            "Testing Accuracy: 0.63050\n",
            "Iter 74, Loss= 0.043302, Training Accuracy= 1.00000\n",
            "Optimization Finished!\n",
            "Testing Accuracy: 0.62960\n",
            "Iter 75, Loss= 0.056573, Training Accuracy= 1.00000\n",
            "Optimization Finished!\n",
            "Testing Accuracy: 0.63320\n",
            "Iter 76, Loss= 0.061036, Training Accuracy= 0.98438\n",
            "Optimization Finished!\n",
            "Testing Accuracy: 0.64180\n",
            "Iter 77, Loss= 0.073299, Training Accuracy= 0.96875\n",
            "Optimization Finished!\n",
            "Testing Accuracy: 0.64210\n",
            "Iter 78, Loss= 0.047688, Training Accuracy= 0.98438\n",
            "Optimization Finished!\n",
            "Testing Accuracy: 0.64160\n",
            "Iter 79, Loss= 0.032830, Training Accuracy= 1.00000\n",
            "Optimization Finished!\n",
            "Testing Accuracy: 0.63740\n",
            "Iter 80, Loss= 0.023609, Training Accuracy= 1.00000\n",
            "Optimization Finished!\n",
            "Testing Accuracy: 0.63670\n",
            "Iter 81, Loss= 0.021570, Training Accuracy= 1.00000\n",
            "Optimization Finished!\n",
            "Testing Accuracy: 0.63950\n",
            "Iter 82, Loss= 0.015341, Training Accuracy= 1.00000\n",
            "Optimization Finished!\n",
            "Testing Accuracy: 0.63910\n",
            "Iter 83, Loss= 0.012869, Training Accuracy= 1.00000\n",
            "Optimization Finished!\n",
            "Testing Accuracy: 0.64260\n",
            "Iter 84, Loss= 0.016951, Training Accuracy= 1.00000\n",
            "Optimization Finished!\n",
            "Testing Accuracy: 0.64060\n",
            "Iter 85, Loss= 0.021105, Training Accuracy= 1.00000\n",
            "Optimization Finished!\n",
            "Testing Accuracy: 0.63860\n",
            "Iter 86, Loss= 0.014900, Training Accuracy= 1.00000\n",
            "Optimization Finished!\n",
            "Testing Accuracy: 0.64300\n",
            "Iter 87, Loss= 0.010408, Training Accuracy= 1.00000\n",
            "Optimization Finished!\n",
            "Testing Accuracy: 0.64520\n",
            "Iter 88, Loss= 0.010390, Training Accuracy= 1.00000\n",
            "Optimization Finished!\n",
            "Testing Accuracy: 0.64480\n",
            "Iter 89, Loss= 0.012293, Training Accuracy= 1.00000\n",
            "Optimization Finished!\n",
            "Testing Accuracy: 0.64420\n",
            "Iter 90, Loss= 0.009142, Training Accuracy= 1.00000\n",
            "Optimization Finished!\n",
            "Testing Accuracy: 0.64710\n",
            "Iter 91, Loss= 0.008854, Training Accuracy= 1.00000\n",
            "Optimization Finished!\n",
            "Testing Accuracy: 0.64650\n",
            "Iter 92, Loss= 0.009137, Training Accuracy= 1.00000\n",
            "Optimization Finished!\n",
            "Testing Accuracy: 0.64840\n",
            "Iter 93, Loss= 0.006047, Training Accuracy= 1.00000\n",
            "Optimization Finished!\n",
            "Testing Accuracy: 0.64890\n",
            "Iter 94, Loss= 0.006657, Training Accuracy= 1.00000\n",
            "Optimization Finished!\n",
            "Testing Accuracy: 0.65040\n",
            "Iter 95, Loss= 0.007377, Training Accuracy= 1.00000\n",
            "Optimization Finished!\n",
            "Testing Accuracy: 0.65030\n",
            "Iter 96, Loss= 0.006296, Training Accuracy= 1.00000\n",
            "Optimization Finished!\n",
            "Testing Accuracy: 0.65010\n",
            "Iter 97, Loss= 0.005598, Training Accuracy= 1.00000\n",
            "Optimization Finished!\n",
            "Testing Accuracy: 0.65060\n",
            "Iter 98, Loss= 0.005003, Training Accuracy= 1.00000\n",
            "Optimization Finished!\n",
            "Testing Accuracy: 0.65050\n",
            "Iter 99, Loss= 0.004619, Training Accuracy= 1.00000\n",
            "Optimization Finished!\n",
            "Testing Accuracy: 0.64980\n"
          ],
          "name": "stdout"
        }
      ]
    },
    {
      "cell_type": "code",
      "metadata": {
        "id": "QBjNspSWclfN",
        "colab_type": "code",
        "outputId": "1c052c74-2502-45c8-dc51-e25725c24a10",
        "colab": {
          "base_uri": "https://localhost:8080/",
          "height": 367
        }
      },
      "source": [
        "import matplotlib.pyplot as plt\n",
        "plt.figure(figsize = (10, 5))\n",
        "plt.subplot(121)\n",
        "plt.title('With batch normalization')\n",
        "plt.plot(range(100), train_accuracy, color  = 'blue', label = 'training')\n",
        "plt.plot(range(100), test_accuracy,  color = 'orange',label =  'test')\n",
        "plt.xlabel('epochs')\n",
        "plt.ylabel('accuracy')\n",
        "plt.legend()\n",
        "plt.subplot(122)\n",
        "plt.title('With batch normalization')\n",
        "plt.plot(range(100), train_loss, color  = 'blue', label = 'training')\n",
        "plt.plot(range(100), test_loss,  color = 'orange', label = 'test')\n",
        "plt.xlabel('epochs')\n",
        "plt.ylabel('loss')\n",
        "plt.legend()\n"
      ],
      "execution_count": 12,
      "outputs": [
        {
          "output_type": "execute_result",
          "data": {
            "text/plain": [
              "<matplotlib.legend.Legend at 0x7f9ef192e550>"
            ]
          },
          "metadata": {
            "tags": []
          },
          "execution_count": 12
        },
        {
          "output_type": "display_data",
          "data": {
            "image/png": "[encoded data removed]",
            "text/plain": [
              "<Figure size 720x360 with 2 Axes>"
            ]
          },
          "metadata": {
            "tags": []
          }
        }
      ]
    },
    {
      "cell_type": "code",
      "metadata": {
        "id": "ellvCJXCf5eB",
        "colab_type": "code",
        "outputId": "023530c7-3565-4919-f67e-23a2543eb870",
        "colab": {
          "base_uri": "https://localhost:8080/",
          "height": 367
        }
      },
      "source": [
        "import matplotlib.pyplot as plt\n",
        "plt.figure(figsize = (10, 5))\n",
        "plt.subplot(121)\n",
        "plt.title('With layer normalization')\n",
        "plt.plot(range(100), train_accuracy, color  = 'blue', label = 'training')\n",
        "plt.plot(range(100), test_accuracy,  color = 'orange',label =  'test')\n",
        "plt.xlabel('epochs')\n",
        "plt.ylabel('accuracy')\n",
        "plt.legend()\n",
        "plt.subplot(122)\n",
        "plt.title('With layer normalization')\n",
        "plt.plot(range(100), train_loss, color  = 'blue', label = 'training')\n",
        "plt.plot(range(100), test_loss,  color = 'orange', label = 'test')\n",
        "plt.xlabel('epochs')\n",
        "plt.ylabel('loss')\n",
        "plt.legend()\n"
      ],
      "execution_count": 12,
      "outputs": [
        {
          "output_type": "execute_result",
          "data": {
            "text/plain": [
              "<matplotlib.legend.Legend at 0x7f7371ad78d0>"
            ]
          },
          "metadata": {
            "tags": []
          },
          "execution_count": 12
        },
        {
          "output_type": "display_data",
          "data": {
            "image/png": "[encoded data removed]",
            "text/plain": [
              "<Figure size 720x360 with 2 Axes>"
            ]
          },
          "metadata": {
            "tags": []
          }
        }
      ]
    },
    {
      "cell_type": "code",
      "metadata": {
        "id": "2cM8WZPILqOH",
        "colab_type": "code",
        "colab": {
          "base_uri": "https://localhost:8080/",
          "height": 367
        },
        "outputId": "82edfa8d-6d15-45c7-a0b2-1608e5fc7fc4"
      },
      "source": [
        "import matplotlib.pyplot as plt\n",
        "plt.figure(figsize = (10, 5))\n",
        "plt.subplot(121)\n",
        "plt.title('Without normalization')\n",
        "plt.plot(range(100), train_accuracy, color  = 'blue', label = 'training')\n",
        "plt.plot(range(100), test_accuracy,  color = 'orange',label =  'test')\n",
        "plt.xlabel('epochs')\n",
        "plt.ylabel('accuracy')\n",
        "plt.legend()\n",
        "plt.subplot(122)\n",
        "plt.title('Without normalization')\n",
        "plt.plot(range(100), train_loss, color  = 'blue', label = 'training')\n",
        "plt.plot(range(100), test_loss,  color = 'orange', label = 'test')\n",
        "plt.xlabel('epochs')\n",
        "plt.ylabel('loss')\n",
        "plt.legend()\n"
      ],
      "execution_count": 12,
      "outputs": [
        {
          "output_type": "execute_result",
          "data": {
            "text/plain": [
              "<matplotlib.legend.Legend at 0x7f2c398a9908>"
            ]
          },
          "metadata": {
            "tags": []
          },
          "execution_count": 12
        },
        {
          "output_type": "display_data",
          "data": {
            "image/png": "[encoded data removed]",
            "text/plain": [
              "<Figure size 720x360 with 2 Axes>"
            ]
          },
          "metadata": {
            "tags": []
          }
        }
      ]
    }
  ]
}